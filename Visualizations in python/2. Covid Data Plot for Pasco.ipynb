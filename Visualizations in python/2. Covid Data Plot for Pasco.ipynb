{
 "cells": [
  {
   "cell_type": "code",
   "execution_count": 1,
   "id": "eb71c4dc",
   "metadata": {},
   "outputs": [],
   "source": [
    "import pandas as pd\n",
    "import matplotlib.pyplot as mp"
   ]
  },
  {
   "cell_type": "code",
   "execution_count": 9,
   "id": "7590b3a4",
   "metadata": {},
   "outputs": [],
   "source": [
    "df_pasco = pd.read_excel('Combined.xlsx',sheet_name='Pasco')"
   ]
  },
  {
   "cell_type": "code",
   "execution_count": 10,
   "id": "909b399f",
   "metadata": {},
   "outputs": [
    {
     "data": {
      "text/html": [
       "<div>\n",
       "<style scoped>\n",
       "    .dataframe tbody tr th:only-of-type {\n",
       "        vertical-align: middle;\n",
       "    }\n",
       "\n",
       "    .dataframe tbody tr th {\n",
       "        vertical-align: top;\n",
       "    }\n",
       "\n",
       "    .dataframe thead th {\n",
       "        text-align: right;\n",
       "    }\n",
       "</style>\n",
       "<table border=\"1\" class=\"dataframe\">\n",
       "  <thead>\n",
       "    <tr style=\"text-align: right;\">\n",
       "      <th></th>\n",
       "      <th>Unnamed: 0</th>\n",
       "      <th>Count of ObjectId (Pasco.csv)</th>\n",
       "      <th>Moving Average Pasco along Day of EventDate (Pasco.csv)</th>\n",
       "    </tr>\n",
       "  </thead>\n",
       "  <tbody>\n",
       "    <tr>\n",
       "      <th>0</th>\n",
       "      <td>2020-03-01</td>\n",
       "      <td>2</td>\n",
       "      <td>2.0</td>\n",
       "    </tr>\n",
       "    <tr>\n",
       "      <th>1</th>\n",
       "      <td>2020-03-02</td>\n",
       "      <td>1</td>\n",
       "      <td>1.5</td>\n",
       "    </tr>\n",
       "    <tr>\n",
       "      <th>2</th>\n",
       "      <td>2020-03-07</td>\n",
       "      <td>2</td>\n",
       "      <td>1.7</td>\n",
       "    </tr>\n",
       "    <tr>\n",
       "      <th>3</th>\n",
       "      <td>2020-03-08</td>\n",
       "      <td>3</td>\n",
       "      <td>2.0</td>\n",
       "    </tr>\n",
       "    <tr>\n",
       "      <th>4</th>\n",
       "      <td>2020-03-09</td>\n",
       "      <td>5</td>\n",
       "      <td>2.6</td>\n",
       "    </tr>\n",
       "  </tbody>\n",
       "</table>\n",
       "</div>"
      ],
      "text/plain": [
       "  Unnamed: 0  Count of ObjectId (Pasco.csv)  \\\n",
       "0 2020-03-01                              2   \n",
       "1 2020-03-02                              1   \n",
       "2 2020-03-07                              2   \n",
       "3 2020-03-08                              3   \n",
       "4 2020-03-09                              5   \n",
       "\n",
       "   Moving Average Pasco along Day of EventDate (Pasco.csv)  \n",
       "0                                                2.0        \n",
       "1                                                1.5        \n",
       "2                                                1.7        \n",
       "3                                                2.0        \n",
       "4                                                2.6        "
      ]
     },
     "execution_count": 10,
     "metadata": {},
     "output_type": "execute_result"
    }
   ],
   "source": [
    "df_pasco.head()"
   ]
  },
  {
   "cell_type": "code",
   "execution_count": 11,
   "id": "614be8be",
   "metadata": {},
   "outputs": [
    {
     "name": "stdout",
     "output_type": "stream",
     "text": [
      "    Unnamed: 0  Count of ObjectId (Pasco.csv)  \\\n",
      "0   2020-03-01                              2   \n",
      "1   2020-03-02                              1   \n",
      "2   2020-03-07                              2   \n",
      "3   2020-03-08                              3   \n",
      "4   2020-03-09                              5   \n",
      "..         ...                            ...   \n",
      "362 2021-03-02                             60   \n",
      "363 2021-03-03                             64   \n",
      "364 2021-03-04                             47   \n",
      "365 2021-03-05                             29   \n",
      "366 2021-03-06                             64   \n",
      "\n",
      "     Moving Average Pasco along Day of EventDate (Pasco.csv)  \n",
      "0                                                  2.0        \n",
      "1                                                  1.5        \n",
      "2                                                  1.7        \n",
      "3                                                  2.0        \n",
      "4                                                  2.6        \n",
      "..                                                 ...        \n",
      "362                                               88.8        \n",
      "363                                               81.8        \n",
      "364                                               72.0        \n",
      "365                                               65.3        \n",
      "366                                               61.3        \n",
      "\n",
      "[367 rows x 3 columns]\n"
     ]
    }
   ],
   "source": [
    " print(df_pasco)"
   ]
  },
  {
   "cell_type": "code",
   "execution_count": 12,
   "id": "fd45e6e3",
   "metadata": {},
   "outputs": [
    {
     "data": {
      "text/plain": [
       "Index(['Unnamed: 0', 'Count of ObjectId (Pasco.csv)',\n",
       "       'Moving Average Pasco along Day of EventDate (Pasco.csv)'],\n",
       "      dtype='object')"
      ]
     },
     "execution_count": 12,
     "metadata": {},
     "output_type": "execute_result"
    }
   ],
   "source": [
    "df_pasco.columns"
   ]
  },
  {
   "cell_type": "code",
   "execution_count": 13,
   "id": "3428474d",
   "metadata": {},
   "outputs": [],
   "source": [
    "df_pasco.columns = ['Date', 'Daily Number', 'Moving Average']"
   ]
  },
  {
   "cell_type": "code",
   "execution_count": 14,
   "id": "7397400b",
   "metadata": {},
   "outputs": [
    {
     "data": {
      "text/html": [
       "<div>\n",
       "<style scoped>\n",
       "    .dataframe tbody tr th:only-of-type {\n",
       "        vertical-align: middle;\n",
       "    }\n",
       "\n",
       "    .dataframe tbody tr th {\n",
       "        vertical-align: top;\n",
       "    }\n",
       "\n",
       "    .dataframe thead th {\n",
       "        text-align: right;\n",
       "    }\n",
       "</style>\n",
       "<table border=\"1\" class=\"dataframe\">\n",
       "  <thead>\n",
       "    <tr style=\"text-align: right;\">\n",
       "      <th></th>\n",
       "      <th>Date</th>\n",
       "      <th>Daily Number</th>\n",
       "      <th>Moving Average</th>\n",
       "    </tr>\n",
       "  </thead>\n",
       "  <tbody>\n",
       "    <tr>\n",
       "      <th>0</th>\n",
       "      <td>2020-03-01</td>\n",
       "      <td>2</td>\n",
       "      <td>2.0</td>\n",
       "    </tr>\n",
       "    <tr>\n",
       "      <th>1</th>\n",
       "      <td>2020-03-02</td>\n",
       "      <td>1</td>\n",
       "      <td>1.5</td>\n",
       "    </tr>\n",
       "    <tr>\n",
       "      <th>2</th>\n",
       "      <td>2020-03-07</td>\n",
       "      <td>2</td>\n",
       "      <td>1.7</td>\n",
       "    </tr>\n",
       "    <tr>\n",
       "      <th>3</th>\n",
       "      <td>2020-03-08</td>\n",
       "      <td>3</td>\n",
       "      <td>2.0</td>\n",
       "    </tr>\n",
       "    <tr>\n",
       "      <th>4</th>\n",
       "      <td>2020-03-09</td>\n",
       "      <td>5</td>\n",
       "      <td>2.6</td>\n",
       "    </tr>\n",
       "  </tbody>\n",
       "</table>\n",
       "</div>"
      ],
      "text/plain": [
       "        Date  Daily Number  Moving Average\n",
       "0 2020-03-01             2             2.0\n",
       "1 2020-03-02             1             1.5\n",
       "2 2020-03-07             2             1.7\n",
       "3 2020-03-08             3             2.0\n",
       "4 2020-03-09             5             2.6"
      ]
     },
     "execution_count": 14,
     "metadata": {},
     "output_type": "execute_result"
    }
   ],
   "source": [
    "df_pasco.head()"
   ]
  },
  {
   "cell_type": "code",
   "execution_count": 17,
   "id": "651c75ea",
   "metadata": {},
   "outputs": [
    {
     "data": {
      "text/plain": [
       "<AxesSubplot:xlabel='Date'>"
      ]
     },
     "execution_count": 17,
     "metadata": {},
     "output_type": "execute_result"
    },
    {
     "data": {
      "image/png": "[encoded data removed]",
      "text/plain": [
       "<Figure size 432x288 with 1 Axes>"
      ]
     },
     "metadata": {
      "needs_background": "light"
     },
     "output_type": "display_data"
    }
   ],
   "source": [
    "df_pasco.plot('Date', ['Daily Number', 'Moving Average']) "
   ]
  },
  {
   "cell_type": "code",
   "execution_count": 18,
   "id": "ecaed8bf",
   "metadata": {},
   "outputs": [
    {
     "data": {
      "text/plain": [
       "<AxesSubplot:xlabel='Date'>"
      ]
     },
     "execution_count": 18,
     "metadata": {},
     "output_type": "execute_result"
    },
    {
     "data": {
      "image/png": "[encoded data removed]",
      "text/plain": [
       "<Figure size 432x288 with 1 Axes>"
      ]
     },
     "metadata": {
      "needs_background": "light"
     },
     "output_type": "display_data"
    }
   ],
   "source": [
    "df_pasco.plot('Date', ['Daily Number', 'Moving Average'],xticks=[]) "
   ]
  },
  {
   "cell_type": "code",
   "execution_count": null,
   "id": "87f91c99",
   "metadata": {},
   "outputs": [],
   "source": []
  }
 ],
 "metadata": {
  "kernelspec": {
   "display_name": "Python 3 (ipykernel)",
   "language": "python",
   "name": "python3"
  },
  "language_info": {
   "codemirror_mode": {
    "name": "ipython",
    "version": 3
   },
   "file_extension": ".py",
   "mimetype": "text/x-python",
   "name": "python",
   "nbconvert_exporter": "python",
   "pygments_lexer": "ipython3",
   "version": "3.9.7"
  }
 },
 "nbformat": 4,
 "nbformat_minor": 5
}
