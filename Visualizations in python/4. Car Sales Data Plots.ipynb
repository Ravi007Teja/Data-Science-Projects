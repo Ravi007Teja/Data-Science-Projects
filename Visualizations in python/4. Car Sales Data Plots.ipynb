{
 "cells": [
  {
   "cell_type": "code",
   "execution_count": 2,
   "id": "d388312f",
   "metadata": {},
   "outputs": [],
   "source": [
    "import pandas as pd"
   ]
  },
  {
   "cell_type": "code",
   "execution_count": 3,
   "id": "9bc8c186",
   "metadata": {},
   "outputs": [],
   "source": [
    "carsales = pd.read_excel('Simplified Car Sales Data.xlsx')"
   ]
  },
  {
   "cell_type": "code",
   "execution_count": 4,
   "id": "bc847025",
   "metadata": {},
   "outputs": [
    {
     "data": {
      "text/html": [
       "<div>\n",
       "<style scoped>\n",
       "    .dataframe tbody tr th:only-of-type {\n",
       "        vertical-align: middle;\n",
       "    }\n",
       "\n",
       "    .dataframe tbody tr th {\n",
       "        vertical-align: top;\n",
       "    }\n",
       "\n",
       "    .dataframe thead th {\n",
       "        text-align: right;\n",
       "    }\n",
       "</style>\n",
       "<table border=\"1\" class=\"dataframe\">\n",
       "  <thead>\n",
       "    <tr style=\"text-align: right;\">\n",
       "      <th></th>\n",
       "      <th>Make</th>\n",
       "      <th>CountryName</th>\n",
       "      <th>SalePrice</th>\n",
       "      <th>CostPrice</th>\n",
       "      <th>TotalDiscount</th>\n",
       "      <th>DeliveryCharge</th>\n",
       "      <th>SpareParts</th>\n",
       "      <th>LaborCost</th>\n",
       "      <th>Model</th>\n",
       "      <th>Color</th>\n",
       "    </tr>\n",
       "  </thead>\n",
       "  <tbody>\n",
       "    <tr>\n",
       "      <th>0</th>\n",
       "      <td>Rolls Royce</td>\n",
       "      <td>United Kingdom</td>\n",
       "      <td>95000</td>\n",
       "      <td>50000</td>\n",
       "      <td>500.0</td>\n",
       "      <td>750</td>\n",
       "      <td>500</td>\n",
       "      <td>750</td>\n",
       "      <td>Camargue</td>\n",
       "      <td>Red</td>\n",
       "    </tr>\n",
       "    <tr>\n",
       "      <th>1</th>\n",
       "      <td>Aston Martin</td>\n",
       "      <td>United Kingdom</td>\n",
       "      <td>120000</td>\n",
       "      <td>75000</td>\n",
       "      <td>0.0</td>\n",
       "      <td>1500</td>\n",
       "      <td>600</td>\n",
       "      <td>550</td>\n",
       "      <td>DBS</td>\n",
       "      <td>Blue</td>\n",
       "    </tr>\n",
       "    <tr>\n",
       "      <th>2</th>\n",
       "      <td>Rolls Royce</td>\n",
       "      <td>United Kingdom</td>\n",
       "      <td>88000</td>\n",
       "      <td>75000</td>\n",
       "      <td>750.0</td>\n",
       "      <td>1000</td>\n",
       "      <td>750</td>\n",
       "      <td>550</td>\n",
       "      <td>Silver Ghost</td>\n",
       "      <td>Green</td>\n",
       "    </tr>\n",
       "    <tr>\n",
       "      <th>3</th>\n",
       "      <td>Rolls Royce</td>\n",
       "      <td>United Kingdom</td>\n",
       "      <td>89000</td>\n",
       "      <td>88000</td>\n",
       "      <td>0.0</td>\n",
       "      <td>1000</td>\n",
       "      <td>85</td>\n",
       "      <td>550</td>\n",
       "      <td>Silver Ghost</td>\n",
       "      <td>Blue</td>\n",
       "    </tr>\n",
       "    <tr>\n",
       "      <th>4</th>\n",
       "      <td>Rolls Royce</td>\n",
       "      <td>United Kingdom</td>\n",
       "      <td>92000</td>\n",
       "      <td>62000</td>\n",
       "      <td>0.0</td>\n",
       "      <td>1500</td>\n",
       "      <td>2500</td>\n",
       "      <td>550</td>\n",
       "      <td>Camargue</td>\n",
       "      <td>Canary Yellow</td>\n",
       "    </tr>\n",
       "  </tbody>\n",
       "</table>\n",
       "</div>"
      ],
      "text/plain": [
       "           Make     CountryName  SalePrice  CostPrice  TotalDiscount  \\\n",
       "0   Rolls Royce  United Kingdom      95000      50000          500.0   \n",
       "1  Aston Martin  United Kingdom     120000      75000            0.0   \n",
       "2   Rolls Royce  United Kingdom      88000      75000          750.0   \n",
       "3   Rolls Royce  United Kingdom      89000      88000            0.0   \n",
       "4   Rolls Royce  United Kingdom      92000      62000            0.0   \n",
       "\n",
       "   DeliveryCharge  SpareParts  LaborCost         Model          Color  \n",
       "0             750         500        750      Camargue            Red  \n",
       "1            1500         600        550           DBS           Blue  \n",
       "2            1000         750        550  Silver Ghost          Green  \n",
       "3            1000          85        550  Silver Ghost           Blue  \n",
       "4            1500        2500        550      Camargue  Canary Yellow  "
      ]
     },
     "execution_count": 4,
     "metadata": {},
     "output_type": "execute_result"
    }
   ],
   "source": [
    "carsales.head()\n"
   ]
  },
  {
   "cell_type": "code",
   "execution_count": 5,
   "id": "87788538",
   "metadata": {},
   "outputs": [],
   "source": [
    "df=carsales.groupby(by='CountryName').sum().reset_index()"
   ]
  },
  {
   "cell_type": "code",
   "execution_count": 6,
   "id": "cf531a69",
   "metadata": {},
   "outputs": [
    {
     "data": {
      "text/html": [
       "<div>\n",
       "<style scoped>\n",
       "    .dataframe tbody tr th:only-of-type {\n",
       "        vertical-align: middle;\n",
       "    }\n",
       "\n",
       "    .dataframe tbody tr th {\n",
       "        vertical-align: top;\n",
       "    }\n",
       "\n",
       "    .dataframe thead th {\n",
       "        text-align: right;\n",
       "    }\n",
       "</style>\n",
       "<table border=\"1\" class=\"dataframe\">\n",
       "  <thead>\n",
       "    <tr style=\"text-align: right;\">\n",
       "      <th></th>\n",
       "      <th>CountryName</th>\n",
       "      <th>SalePrice</th>\n",
       "      <th>CostPrice</th>\n",
       "      <th>TotalDiscount</th>\n",
       "      <th>DeliveryCharge</th>\n",
       "      <th>SpareParts</th>\n",
       "      <th>LaborCost</th>\n",
       "    </tr>\n",
       "  </thead>\n",
       "  <tbody>\n",
       "    <tr>\n",
       "      <th>0</th>\n",
       "      <td>France</td>\n",
       "      <td>2524510</td>\n",
       "      <td>1460100</td>\n",
       "      <td>39300.00</td>\n",
       "      <td>30600</td>\n",
       "      <td>42430</td>\n",
       "      <td>36471</td>\n",
       "    </tr>\n",
       "    <tr>\n",
       "      <th>1</th>\n",
       "      <td>Germany</td>\n",
       "      <td>145750</td>\n",
       "      <td>160000</td>\n",
       "      <td>700.00</td>\n",
       "      <td>150</td>\n",
       "      <td>1600</td>\n",
       "      <td>1461</td>\n",
       "    </tr>\n",
       "    <tr>\n",
       "      <th>2</th>\n",
       "      <td>Spain</td>\n",
       "      <td>207750</td>\n",
       "      <td>178700</td>\n",
       "      <td>1050.00</td>\n",
       "      <td>225</td>\n",
       "      <td>4420</td>\n",
       "      <td>2272</td>\n",
       "    </tr>\n",
       "    <tr>\n",
       "      <th>3</th>\n",
       "      <td>Switzerland</td>\n",
       "      <td>1440970</td>\n",
       "      <td>701150</td>\n",
       "      <td>18950.00</td>\n",
       "      <td>15725</td>\n",
       "      <td>30315</td>\n",
       "      <td>27207</td>\n",
       "    </tr>\n",
       "    <tr>\n",
       "      <th>4</th>\n",
       "      <td>USA</td>\n",
       "      <td>11653960</td>\n",
       "      <td>7716065</td>\n",
       "      <td>83345.00</td>\n",
       "      <td>79640</td>\n",
       "      <td>189045</td>\n",
       "      <td>113135</td>\n",
       "    </tr>\n",
       "    <tr>\n",
       "      <th>5</th>\n",
       "      <td>United Kingdom</td>\n",
       "      <td>15725000</td>\n",
       "      <td>10193880</td>\n",
       "      <td>81950.02</td>\n",
       "      <td>113630</td>\n",
       "      <td>227250</td>\n",
       "      <td>129952</td>\n",
       "    </tr>\n",
       "  </tbody>\n",
       "</table>\n",
       "</div>"
      ],
      "text/plain": [
       "      CountryName  SalePrice  CostPrice  TotalDiscount  DeliveryCharge  \\\n",
       "0          France    2524510    1460100       39300.00           30600   \n",
       "1         Germany     145750     160000         700.00             150   \n",
       "2           Spain     207750     178700        1050.00             225   \n",
       "3     Switzerland    1440970     701150       18950.00           15725   \n",
       "4             USA   11653960    7716065       83345.00           79640   \n",
       "5  United Kingdom   15725000   10193880       81950.02          113630   \n",
       "\n",
       "   SpareParts  LaborCost  \n",
       "0       42430      36471  \n",
       "1        1600       1461  \n",
       "2        4420       2272  \n",
       "3       30315      27207  \n",
       "4      189045     113135  \n",
       "5      227250     129952  "
      ]
     },
     "execution_count": 6,
     "metadata": {},
     "output_type": "execute_result"
    }
   ],
   "source": [
    "df"
   ]
  },
  {
   "cell_type": "code",
   "execution_count": 7,
   "id": "732aaab9",
   "metadata": {},
   "outputs": [],
   "source": [
    "df = df[df['CountryName'].isin(['United Kingdom','USA','France'])]"
   ]
  },
  {
   "cell_type": "code",
   "execution_count": 8,
   "id": "de01f77d",
   "metadata": {},
   "outputs": [
    {
     "data": {
      "text/html": [
       "<div>\n",
       "<style scoped>\n",
       "    .dataframe tbody tr th:only-of-type {\n",
       "        vertical-align: middle;\n",
       "    }\n",
       "\n",
       "    .dataframe tbody tr th {\n",
       "        vertical-align: top;\n",
       "    }\n",
       "\n",
       "    .dataframe thead th {\n",
       "        text-align: right;\n",
       "    }\n",
       "</style>\n",
       "<table border=\"1\" class=\"dataframe\">\n",
       "  <thead>\n",
       "    <tr style=\"text-align: right;\">\n",
       "      <th></th>\n",
       "      <th>CountryName</th>\n",
       "      <th>SalePrice</th>\n",
       "      <th>CostPrice</th>\n",
       "      <th>TotalDiscount</th>\n",
       "      <th>DeliveryCharge</th>\n",
       "      <th>SpareParts</th>\n",
       "      <th>LaborCost</th>\n",
       "    </tr>\n",
       "  </thead>\n",
       "  <tbody>\n",
       "    <tr>\n",
       "      <th>0</th>\n",
       "      <td>France</td>\n",
       "      <td>2524510</td>\n",
       "      <td>1460100</td>\n",
       "      <td>39300.00</td>\n",
       "      <td>30600</td>\n",
       "      <td>42430</td>\n",
       "      <td>36471</td>\n",
       "    </tr>\n",
       "    <tr>\n",
       "      <th>4</th>\n",
       "      <td>USA</td>\n",
       "      <td>11653960</td>\n",
       "      <td>7716065</td>\n",
       "      <td>83345.00</td>\n",
       "      <td>79640</td>\n",
       "      <td>189045</td>\n",
       "      <td>113135</td>\n",
       "    </tr>\n",
       "    <tr>\n",
       "      <th>5</th>\n",
       "      <td>United Kingdom</td>\n",
       "      <td>15725000</td>\n",
       "      <td>10193880</td>\n",
       "      <td>81950.02</td>\n",
       "      <td>113630</td>\n",
       "      <td>227250</td>\n",
       "      <td>129952</td>\n",
       "    </tr>\n",
       "  </tbody>\n",
       "</table>\n",
       "</div>"
      ],
      "text/plain": [
       "      CountryName  SalePrice  CostPrice  TotalDiscount  DeliveryCharge  \\\n",
       "0          France    2524510    1460100       39300.00           30600   \n",
       "4             USA   11653960    7716065       83345.00           79640   \n",
       "5  United Kingdom   15725000   10193880       81950.02          113630   \n",
       "\n",
       "   SpareParts  LaborCost  \n",
       "0       42430      36471  \n",
       "4      189045     113135  \n",
       "5      227250     129952  "
      ]
     },
     "execution_count": 8,
     "metadata": {},
     "output_type": "execute_result"
    }
   ],
   "source": [
    "df"
   ]
  },
  {
   "cell_type": "code",
   "execution_count": 9,
   "id": "eac6f63a",
   "metadata": {},
   "outputs": [
    {
     "data": {
      "text/plain": [
       "<AxesSubplot:ylabel='CountryName'>"
      ]
     },
     "execution_count": 9,
     "metadata": {},
     "output_type": "execute_result"
    },
    {
     "data": {
      "image/png": "[encoded data removed]",
      "text/plain": [
       "<Figure size 432x288 with 1 Axes>"
      ]
     },
     "metadata": {
      "needs_background": "light"
     },
     "output_type": "display_data"
    }
   ],
   "source": [
    "df.plot('CountryName',['CostPrice','SalePrice'], kind='barh')"
   ]
  },
  {
   "cell_type": "code",
   "execution_count": null,
   "id": "e0a5d95f",
   "metadata": {},
   "outputs": [],
   "source": []
  }
 ],
 "metadata": {
  "kernelspec": {
   "display_name": "Python 3 (ipykernel)",
   "language": "python",
   "name": "python3"
  },
  "language_info": {
   "codemirror_mode": {
    "name": "ipython",
    "version": 3
   },
   "file_extension": ".py",
   "mimetype": "text/x-python",
   "name": "python",
   "nbconvert_exporter": "python",
   "pygments_lexer": "ipython3",
   "version": "3.9.7"
  }
 },
 "nbformat": 4,
 "nbformat_minor": 5
}
